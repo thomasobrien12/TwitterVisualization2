{
 "cells": [
  {
   "cell_type": "code",
   "execution_count": 1,
   "metadata": {},
   "outputs": [
    {
     "name": "stdout",
     "output_type": "stream",
     "text": [
      "<tweepy.api.API object at 0x0000011920FAE8D0>\n",
      "Enter a query to find: nba\n",
      "2019-11-04 12:53:36 36 Chambers False iamallen09 918 601 b'RT @BleacherReport: The KLAW \\xf0\\x9f\\x96\\x90\\n\\nWow.\\n\\n(via @NBA)\\nhttps://t.co/lrJ7ILPjjd'\n",
      "....................\n",
      "2019-11-04 12:53:35  False Andy. cunningham 56 7 b'Heat outscore Rockets 46-14 in 1st quarter, set team mark https://t.co/O1TaRvihQQ'\n",
      "....................\n",
      "2019-11-04 12:53:34 Republic of the Philippines False John Carl ۞ 635 218 b'RT @BleacherReport: The KLAW \\xf0\\x9f\\x96\\x90\\n\\nWow.\\n\\n(via @NBA)\\nhttps://t.co/lrJ7ILPjjd'\n",
      "....................\n"
     ]
    },
    {
     "ename": "UnicodeEncodeError",
     "evalue": "'charmap' codec can't encode character '\\u06de' in position 64: character maps to <undefined>",
     "output_type": "error",
     "traceback": [
      "\u001b[1;31m---------------------------------------------------------------------------\u001b[0m",
      "\u001b[1;31mUnicodeEncodeError\u001b[0m                        Traceback (most recent call last)",
      "\u001b[1;32m<ipython-input-1-b5cdabcf4f46>\u001b[0m in \u001b[0;36m<module>\u001b[1;34m\u001b[0m\n\u001b[0;32m     30\u001b[0m \u001b[1;32mif\u001b[0m \u001b[0m__name__\u001b[0m \u001b[1;33m==\u001b[0m \u001b[1;34m\"__main__\"\u001b[0m\u001b[1;33m:\u001b[0m\u001b[1;33m\u001b[0m\u001b[1;33m\u001b[0m\u001b[0m\n\u001b[0;32m     31\u001b[0m     \u001b[0mquery\u001b[0m \u001b[1;33m=\u001b[0m \u001b[0minput\u001b[0m\u001b[1;33m(\u001b[0m\u001b[1;34m\"Enter a query to find: \"\u001b[0m\u001b[1;33m)\u001b[0m\u001b[1;33m\u001b[0m\u001b[1;33m\u001b[0m\u001b[0m\n\u001b[1;32m---> 32\u001b[1;33m     \u001b[0manalysis\u001b[0m \u001b[1;33m=\u001b[0m \u001b[0mtweet_analysis\u001b[0m\u001b[1;33m(\u001b[0m\u001b[0mquery\u001b[0m\u001b[1;33m)\u001b[0m\u001b[1;33m\u001b[0m\u001b[1;33m\u001b[0m\u001b[0m\n\u001b[0m\u001b[0;32m     33\u001b[0m \u001b[1;33m\u001b[0m\u001b[0m\n\u001b[0;32m     34\u001b[0m \u001b[1;33m\u001b[0m\u001b[0m\n",
      "\u001b[1;32m<ipython-input-1-b5cdabcf4f46>\u001b[0m in \u001b[0;36mtweet_analysis\u001b[1;34m(query)\u001b[0m\n\u001b[0;32m     26\u001b[0m         \u001b[0mprint\u001b[0m\u001b[1;33m(\u001b[0m\u001b[1;34m'....................'\u001b[0m\u001b[1;33m)\u001b[0m\u001b[1;33m\u001b[0m\u001b[1;33m\u001b[0m\u001b[0m\n\u001b[0;32m     27\u001b[0m         csvWriter.writerow([tweet.created_at,tweet.user.location,tweet.user.verified,tweet.user.name,\n\u001b[1;32m---> 28\u001b[1;33m                            tweet.user.friends_count,tweet.user.followers_count,tweet.text.encode('utf-8')])\n\u001b[0m\u001b[0;32m     29\u001b[0m \u001b[1;33m\u001b[0m\u001b[0m\n\u001b[0;32m     30\u001b[0m \u001b[1;32mif\u001b[0m \u001b[0m__name__\u001b[0m \u001b[1;33m==\u001b[0m \u001b[1;34m\"__main__\"\u001b[0m\u001b[1;33m:\u001b[0m\u001b[1;33m\u001b[0m\u001b[1;33m\u001b[0m\u001b[0m\n",
      "\u001b[1;32m~\\Anaconda3\\lib\\encodings\\cp1252.py\u001b[0m in \u001b[0;36mencode\u001b[1;34m(self, input, final)\u001b[0m\n\u001b[0;32m     17\u001b[0m \u001b[1;32mclass\u001b[0m \u001b[0mIncrementalEncoder\u001b[0m\u001b[1;33m(\u001b[0m\u001b[0mcodecs\u001b[0m\u001b[1;33m.\u001b[0m\u001b[0mIncrementalEncoder\u001b[0m\u001b[1;33m)\u001b[0m\u001b[1;33m:\u001b[0m\u001b[1;33m\u001b[0m\u001b[1;33m\u001b[0m\u001b[0m\n\u001b[0;32m     18\u001b[0m     \u001b[1;32mdef\u001b[0m \u001b[0mencode\u001b[0m\u001b[1;33m(\u001b[0m\u001b[0mself\u001b[0m\u001b[1;33m,\u001b[0m \u001b[0minput\u001b[0m\u001b[1;33m,\u001b[0m \u001b[0mfinal\u001b[0m\u001b[1;33m=\u001b[0m\u001b[1;32mFalse\u001b[0m\u001b[1;33m)\u001b[0m\u001b[1;33m:\u001b[0m\u001b[1;33m\u001b[0m\u001b[1;33m\u001b[0m\u001b[0m\n\u001b[1;32m---> 19\u001b[1;33m         \u001b[1;32mreturn\u001b[0m \u001b[0mcodecs\u001b[0m\u001b[1;33m.\u001b[0m\u001b[0mcharmap_encode\u001b[0m\u001b[1;33m(\u001b[0m\u001b[0minput\u001b[0m\u001b[1;33m,\u001b[0m\u001b[0mself\u001b[0m\u001b[1;33m.\u001b[0m\u001b[0merrors\u001b[0m\u001b[1;33m,\u001b[0m\u001b[0mencoding_table\u001b[0m\u001b[1;33m)\u001b[0m\u001b[1;33m[\u001b[0m\u001b[1;36m0\u001b[0m\u001b[1;33m]\u001b[0m\u001b[1;33m\u001b[0m\u001b[1;33m\u001b[0m\u001b[0m\n\u001b[0m\u001b[0;32m     20\u001b[0m \u001b[1;33m\u001b[0m\u001b[0m\n\u001b[0;32m     21\u001b[0m \u001b[1;32mclass\u001b[0m \u001b[0mIncrementalDecoder\u001b[0m\u001b[1;33m(\u001b[0m\u001b[0mcodecs\u001b[0m\u001b[1;33m.\u001b[0m\u001b[0mIncrementalDecoder\u001b[0m\u001b[1;33m)\u001b[0m\u001b[1;33m:\u001b[0m\u001b[1;33m\u001b[0m\u001b[1;33m\u001b[0m\u001b[0m\n",
      "\u001b[1;31mUnicodeEncodeError\u001b[0m: 'charmap' codec can't encode character '\\u06de' in position 64: character maps to <undefined>"
     ]
    }
   ],
   "source": [
    "import tweepy\n",
    "import numpy as np\n",
    "import csv\n",
    "\n",
    "consumer_key = 'Mox3jQfE1HDEiClSsMbW46muz'\n",
    "consumer_secret = 'Z2cWw8htdTkyFmGPlqs1QD0aZNLtXHBvDN6dIK7XXrpinMzSgY'\n",
    "\n",
    "access_token = '443839824-ftOQubkvp1opQqgacXsBC7cRlLdrVly5rZp1g8VV'\n",
    "access_token_secret = '6Sy8zJVgpi40IQONKxfa4nnYvX8S5Br2gEF9aXljgsZZ5'\n",
    "\n",
    "auth = tweepy.OAuthHandler(consumer_key,consumer_secret)\n",
    "auth.set_access_token(access_token,access_token_secret)\n",
    "\n",
    "api = tweepy.API(auth)\n",
    "\n",
    "print(api)\n",
    "\n",
    "def tweet_analysis(query):\n",
    "    \n",
    "    for tweet in tweepy.Cursor(api.search,q=query,count=100,lang=\"en\").items(100):\n",
    "        csvFile = open('Twitter.csv', 'a')\n",
    "        csvWriter = csv.writer(csvFile)\n",
    "        csvWriter.writerow([\"Date\",\"Location\",\"Verified\",\"User Name\",\"Friends Count\",\"Followers Count\",\"Text\"])\n",
    "        print (tweet.created_at,tweet.user.location,tweet.user.verified,tweet.user.name,tweet.user.friends_count,\n",
    "               tweet.user.followers_count,tweet.text.encode('utf-8'))\n",
    "        print('....................')\n",
    "        csvWriter.writerow([tweet.created_at,tweet.user.location,tweet.user.verified,tweet.user.name,\n",
    "                           tweet.user.friends_count,tweet.user.followers_count,tweet.text.encode('utf-8')])\n",
    "        \n",
    "if __name__ == \"__main__\":\n",
    "    query = input(\"Enter a query to find: \")\n",
    "    analysis = tweet_analysis(query)\n",
    "    \n",
    "    \n",
    "users = fake_users.groupby('Date', as_index = False).size().reset_index(name='counts')\n",
    "usersum = users.sourt_values('Date')\n",
    "\n",
    "trace0 = go.Bar(name = \"Accounts Created Over Time\", x = usersum.Date, y = usersum.counts)\n",
    "data = ([trace0])\n",
    "\n",
    "layout = go.Layout(\n",
    "    title = \"Accounts created 2009-2017\",\n",
    "    yaxis = dict(\n",
    "        title = 'No of Accounts created',\n",
    "        range = [0, 100],\n",
    "        titlefont=dict(\n",
    "        size = 20,\n",
    "        )\n",
    "    \n",
    "    \n",
    "    ),\n",
    "\n",
    "\n",
    "    xaxis = dict(\n",
    "        title = 'Year',\n",
    "        range = ['2009-01','2017-1'],\n",
    "        titlefont=dict(\n",
    "            size = 20,\n",
    "        )\n",
    "    )\n",
    ")\n",
    "\n",
    "\n",
    "fig = go.Figure(data=data, layout=layout)\n",
    "fig['layout'].update()\n",
    "plot(fig)\n"
   ]
  },
  {
   "cell_type": "code",
   "execution_count": null,
   "metadata": {},
   "outputs": [],
   "source": []
  },
  {
   "cell_type": "code",
   "execution_count": 2,
   "metadata": {},
   "outputs": [
    {
     "data": {
      "text/plain": [
       "'temp-plot.html'"
      ]
     },
     "execution_count": 2,
     "metadata": {},
     "output_type": "execute_result"
    }
   ],
   "source": [
    "'temp-plot.html'\n"
   ]
  },
  {
   "cell_type": "code",
   "execution_count": null,
   "metadata": {},
   "outputs": [],
   "source": []
  }
 ],
 "metadata": {
  "kernelspec": {
   "display_name": "Python 3",
   "language": "python",
   "name": "python3"
  },
  "language_info": {
   "codemirror_mode": {
    "name": "ipython",
    "version": 3
   },
   "file_extension": ".py",
   "mimetype": "text/x-python",
   "name": "python",
   "nbconvert_exporter": "python",
   "pygments_lexer": "ipython3",
   "version": "3.7.3"
  }
 },
 "nbformat": 4,
 "nbformat_minor": 4
}
